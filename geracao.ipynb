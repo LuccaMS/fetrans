{
 "cells": [
  {
   "cell_type": "code",
   "execution_count": null,
   "metadata": {},
   "outputs": [],
   "source": [
    "import numpy as np\n",
    "import pandas as pd\n",
    "import random"
   ]
  },
  {
   "cell_type": "markdown",
   "metadata": {},
   "source": [
    "$$\n",
    "\\phi = -k\\frac{\\Delta(T)}{dx}  [W/m²]\n",
    "$$\n",
    "\n",
    "$\\phi$ = heat flux  [W/m²]  \n",
    "k = thermal conductivity  [W/m*k]  \n",
    "$\\Delta(T)$ = T2 - T1 where $T2 < T1$ [K]  \n",
    "dx = thickness of the material where the flux will flow [m]  \n"
   ]
  },
  {
   "cell_type": "markdown",
   "metadata": {},
   "source": [
    "$$\n",
    "\\phi = -kA\\frac{\\Delta(T)}{dx}  [W]\n",
    "$$\n",
    "\n",
    "$\\phi$ = heat transfer rate  [W]  \n",
    "A = area [m²]  \n",
    "k = thermal conductivity  [W/m*k]  \n",
    "$\\Delta(T)$ = T2 - T1 where $T2 < T1$ [K]  \n",
    "dx = thickness of the material where the flux will flow [m]  "
   ]
  },
  {
   "cell_type": "code",
   "execution_count": null,
   "metadata": {},
   "outputs": [],
   "source": [
    "#we are going to create a class named contas, which will have the attributes that will be used in the equation\n",
    "class contas:\n",
    "    #the atributes are, conductivity, heat_flux, heat_transfer, dt, dx and area\n",
    "    def __init__(self,heat_transfer,heat_flux,conductivity, dt, dx, area):\n",
    "        self.conductivity = conductivity\n",
    "        self.heat_flux = heat_flux\n",
    "        self.heat_transfer = heat_transfer\n",
    "        self.dt = dt\n",
    "        self.dx = dx\n",
    "        self.area = area\n",
    "    \n",
    "    #the method will have different equations, which will be used to calculate different things\n",
    "    \n",
    "    #the first equation is the case where we have the conductivity,area, dt and dx, and we want to calculate the heat transfer\n",
    "    def find_heat_transfer(self):\n",
    "        #we multiply by -1 because the term dt/dx is negative, given that the temperature flows from the higher temp to the lower temp\n",
    "        if(self.heat_flux * self.area == 0):\n",
    "            self.heat_transfer = -1 * self.conductivity*self.area*(self.dt/self.dx)\n",
    "        else:\n",
    "            self.heat_transfer = self.heat_flux * self.area\n",
    "        return self.heat_transfer\n",
    "    #the second equation is when we are going to calculate the heat flux, which is basically the heat transfer divided by the area\n",
    "    def find_heat_flux(self):\n",
    "        if(self.heat_transfer/self.area == 0):\n",
    "            #if the heat trasnsfer is zero, probably it was not calculated, so we are going to use the equation to calculate the heat flux\n",
    "            self.heat_flux = -1*self.conductivity*(self.dt/self.dx)\n",
    "        else:\n",
    "            self.heat_flux = self.heat_transfer/self.area\n",
    "        return self.heat_flux\n",
    "    def find_conductivity(self):\n",
    "        try:\n",
    "            self.conductivity = -1*self.heat_transfer*self.dx/(self.area*self.dt)\n",
    "        except:\n",
    "            self.conductivity = -1*self.heat_flux*self.dx/(self.dt)\n",
    "        return self.conductivity\n",
    "    def find_area(self):\n",
    "        try:\n",
    "            self.area = -1*self.heat_transfer*self.dx/(self.conductivity*self.dt)\n",
    "        except:\n",
    "            self.area = self.heat_transfer/self.heat_flux #since heat_flux = heat_transfer/area\n",
    "        return self.area\n",
    "    def find_dt(self):\n",
    "        try:\n",
    "            self.dt = -1*self.heat_transfer*self.dx/(self.conductivity*self.area)\n",
    "        except:\n",
    "            self.dt = -1*self.heat_flux*self.dx/(self.conductivity)\n",
    "        return self.dt\n",
    "    def find_dx(self):\n",
    "        try:\n",
    "            self.dx = -1* self.conductivity*self.area*(self.dt/self.heat_transfer)\n",
    "        except:\n",
    "            self.dx = -1*self.conductivity*(self.dt/self.heat_flux)\n",
    "        return self.dx    "
   ]
  },
  {
   "cell_type": "code",
   "execution_count": null,
   "metadata": {},
   "outputs": [],
   "source": [
    "def choice1(arr):\n",
    "    #in this case, we want to calculate the heat transfer, so we can calculate the heat flux as well, since they are related\n",
    "    #but first we need to generate the values for conductivity, area, dt and dx\n",
    "    #conductivity is in w/mk, in nature it ranges from 0.1 to 400\n",
    "    conductivity = random.uniform(0.1,400)\n",
    "    #area is in m^2, since we are going to use a plate, it can be from 0.01 to 1\n",
    "    area = random.uniform(0.1,1)\n",
    "    #dt is in kelvin, we are going to use a range from -2000 to 0, given that the temperature goes from the higher to lower, hence negative\n",
    "    dt = random.uniform(-500,0)\n",
    "    #dx is the thickness in m, we are going to use a range from 0.01 to 1 \n",
    "    dx = random.uniform(0.1,1)\n",
    "    #now we are going to create an object of the class contas, which will have the values generated\n",
    "    conta = contas(0,0,conductivity,dt,dx,area)\n",
    "    #now we are going to calculate the heat transfer\n",
    "    heat_transfer = conta.find_heat_transfer()\n",
    "    #now we are going to calculate the heat flux\n",
    "    heat_flux = conta.find_heat_flux()\n",
    "    #now we are going to append the values to the array\n",
    "    arr = np.append(arr,[[conductivity,area,dt,dx,heat_transfer,heat_flux]],axis=0)\n",
    "    return arr\n",
    "    "
   ]
  },
  {
   "cell_type": "code",
   "execution_count": null,
   "metadata": {},
   "outputs": [],
   "source": [
    "def choice2(arr):\n",
    "    #we want to calculate the heat_flux, so we have to generate everything except the heat_flux and the heat_transfer\n",
    "    #conductivity is in w/mk, in nature it ranges from 0.1 to 400\n",
    "    conductivity = random.uniform(0.1,400)\n",
    "    #area is in m^2, since we are going to use a plate, it can be from 0.01 to 1\n",
    "    area = random.uniform(0.1,1)\n",
    "    #dt is in kelvin, we are going to use a range from -2000 to 0, given that the temperature goes from the higher to lower, hence negative\n",
    "    dt = random.uniform(-500,0)\n",
    "    #dx is the thickness in m, we are going to use a range from 0.01 to 1\n",
    "    dx = random.uniform(0.1,1)\n",
    "    #now we are going to create an object of the class contas, which will have the values generated\n",
    "    conta = contas(0,0,conductivity,dt,dx,area)\n",
    "    #now we are going to calculate the heat flux\n",
    "    heat_flux = conta.find_heat_flux()\n",
    "    #now we are going to append the values to the array\n",
    "    heat_transfer = conta.find_heat_transfer()\n",
    "    arr = np.append(arr,[[conductivity,area,dt,dx,heat_transfer,heat_flux]],axis=0)\n",
    "    return arr"
   ]
  },
  {
   "cell_type": "code",
   "execution_count": null,
   "metadata": {},
   "outputs": [],
   "source": [
    "def choice3(arr):\n",
    "    #we want to calculate the conductivity, so we have to generate everything except the conductivity and heat_flux\n",
    "    area = random.uniform(0.1,1) #m^2\n",
    "\n",
    "    dx = random.uniform(0.1,1)\n",
    "\n",
    "    dt = random.uniform(-500,0) #k\n",
    "\n",
    "    heat_transfer = random.uniform(0,3000) #w\n",
    "\n",
    "    conta = contas(heat_transfer,0,0,dt,dx,area)\n",
    "\n",
    "    conductivity = conta.find_conductivity()\n",
    "\n",
    "    heat_flux = conta.find_heat_flux()\n",
    "\n",
    "    arr = np.append(arr,[[conductivity,area,dt,dx,heat_transfer,heat_flux]],axis=0)\n",
    "\n",
    "    return arr"
   ]
  },
  {
   "cell_type": "code",
   "execution_count": null,
   "metadata": {},
   "outputs": [],
   "source": [
    "def choice4(arr):\n",
    "    #we need to calculate the area, so we have to generate everything except the area and the heat_flux\n",
    "    conductivity = random.uniform(0.1,400) #w/mk\n",
    "\n",
    "    dx = random.uniform(0.1,1)\n",
    "\n",
    "    dt = random.uniform(-500,0) #k\n",
    "\n",
    "    heat_transfer = random.uniform(0,3000) #w\n",
    "\n",
    "    conta = contas(heat_transfer,0,conductivity,dt,dx,0)\n",
    "\n",
    "    area = conta.find_area()\n",
    "\n",
    "    heat_flux = conta.find_heat_flux()\n",
    "\n",
    "    arr = np.append(arr,[[conductivity,area,dt,dx,heat_transfer,heat_flux]],axis=0)\n",
    "\n",
    "    return arr"
   ]
  },
  {
   "cell_type": "code",
   "execution_count": null,
   "metadata": {},
   "outputs": [],
   "source": [
    "def choice5(arr):\n",
    "    #we want to find dt, so we have to generate everything except the dt and the heat_flux\n",
    "    conductivity = random.uniform(0.1,400) #w/mk\n",
    "\n",
    "    dx = random.uniform(0.1,1)\n",
    "\n",
    "    area = random.uniform(0.1,1) #m^2\n",
    "\n",
    "    heat_transfer = random.uniform(0,3000) #w\n",
    "\n",
    "    conta = contas(heat_transfer,0,conductivity,0,dx,area)\n",
    "\n",
    "    dt = conta.find_dt()\n",
    "\n",
    "    heat_flux = conta.find_heat_flux()\n",
    "\n",
    "    arr = np.append(arr,[[conductivity,area,dt,dx,heat_transfer,heat_flux]],axis=0)\n",
    "\n",
    "    return arr"
   ]
  },
  {
   "cell_type": "code",
   "execution_count": null,
   "metadata": {},
   "outputs": [],
   "source": [
    "def choice6(arr):\n",
    "    #we want to find dx, so we have to generate everything except the dx and the heat_flux\n",
    "    conductivity = random.uniform(0.1,400) #w/mk\n",
    "\n",
    "    area = random.uniform(0.1,1) #m^2\n",
    "\n",
    "    dt = random.uniform(-500,0) #k\n",
    "\n",
    "    heat_transfer = random.uniform(0,3000) #w\n",
    "\n",
    "    conta = contas(heat_transfer,0,conductivity,dt,0,area)\n",
    "\n",
    "    dx = conta.find_dx()\n",
    "\n",
    "    heat_flux = conta.find_heat_flux()\n",
    "\n",
    "    arr = np.append(arr,[[conductivity,area,dt,dx,heat_transfer,heat_flux]],axis=0)\n",
    "\n",
    "    return arr"
   ]
  },
  {
   "cell_type": "code",
   "execution_count": null,
   "metadata": {},
   "outputs": [],
   "source": [
    "def generate_data(qtt):\n",
    "    arr = np.array([[0,0,0,0,0,0]])\n",
    "    #we are randonmly going to choose between 1 and 6, if its 1 we are going to use the first equation and so on\n",
    "    #since the first equation needs others values, we are going to generate them randomly\n",
    "    #the values depend on each variable, given that they are physical variables\n",
    "\n",
    "    #randomly choosing between 1 and 6\n",
    "    for i in range(qtt):\n",
    "        choice = random.randint(1,6)\n",
    "        if choice == 1:\n",
    "            arr = choice1(arr)\n",
    "        elif choice == 2:\n",
    "            arr = choice2(arr)\n",
    "        elif choice == 3:\n",
    "            arr = choice3(arr)\n",
    "        elif choice == 4:\n",
    "            arr = choice4(arr)\n",
    "        elif choice == 5:\n",
    "            arr = choice5(arr)\n",
    "        elif choice == 6:\n",
    "            arr = choice6(arr)\n",
    "        \n",
    "    df = pd.DataFrame(arr, columns = ['conductivity','area','dt','dx','heat_transfer','heat_flux'])\n",
    "    df.drop(df.index[0], inplace=True)\n",
    "\n",
    "    return df"
   ]
  },
  {
   "cell_type": "code",
   "execution_count": null,
   "metadata": {},
   "outputs": [],
   "source": [
    "qtd_conductivity_incorrect = 0\n",
    "qtd_area_incorrect = 0\n",
    "qtd_dt_incorrect = 0\n",
    "qtd_dx_incorrect = 0\n",
    "qtd_heat_transfer_incorrect = 0\n",
    "qtd_heat_flux_incorrect = 0\n",
    "\n",
    "df = generate_data(25000)\n",
    "\n",
    "for i in range(len(df)):\n",
    "    conductivity = df.iloc[i][\"conductivity\"]\n",
    "    area = df.iloc[i][\"area\"]\n",
    "    dt = df.iloc[i][\"dt\"]\n",
    "    dx = df.iloc[i][\"dx\"]\n",
    "    heat_transfer = df.iloc[i][\"heat_transfer\"]\n",
    "    heat_flux = df.iloc[i][\"heat_flux\"]\n",
    "\n",
    "    conta = contas(heat_transfer,heat_flux,conductivity,dt,dx,area)\n",
    "\n",
    "    calc_conduct = round(conta.find_conductivity(),3) \n",
    "    calc_area = round(conta.find_area(),3)\n",
    "    calc_dt = round(conta.find_dt(),3)\n",
    "    calc_dx = round(conta.find_dx(),3)\n",
    "    calc_heat_transfer = round(conta.find_heat_transfer(),3)\n",
    "    calc_heat_flux = round(conta.find_heat_flux(),3)\n",
    "\n",
    "    conduct_value = round(conductivity,3)\n",
    "    area_value = round(area,3)\n",
    "    dt_value = round(dt,3)\n",
    "    dx_value = round(dx,3)\n",
    "    heat_transfer_value = round(heat_transfer,3)\n",
    "    heat_flux_value = round(heat_flux,3)\n",
    "\n",
    "\n",
    "    if(conduct_value != calc_conduct):\n",
    "        qtd_conductivity_incorrect += 1\n",
    "        df.drop(df.index[i], inplace=True)\n",
    "    if(area_value != calc_area):\n",
    "        qtd_area_incorrect += 1\n",
    "        df.drop(df.index[i], inplace=True)\n",
    "    if(dt_value != calc_dt):\n",
    "        qtd_dt_incorrect += 1\n",
    "        df.drop(df.index[i], inplace=True)\n",
    "    if(dx_value != calc_dx):\n",
    "        qtd_dx_incorrect += 1\n",
    "        df.drop(df.index[i], inplace=True)\n",
    "    if(heat_transfer_value != calc_heat_transfer):\n",
    "        qtd_heat_transfer_incorrect += 1\n",
    "        df.drop(df.index[i], inplace=True)\n",
    "    if(heat_flux_value != calc_heat_flux):\n",
    "        qtd_heat_flux_incorrect += 1\n",
    "        df.drop(df.index[i], inplace=True)\n",
    "\n",
    "\n",
    "print(\"qtd_conductivity_incorrect: \",qtd_conductivity_incorrect)\n",
    "print(\"qtd_area_incorrect: \",qtd_area_incorrect)\n",
    "print(\"qtd_dt_incorrect: \",qtd_dt_incorrect)\n",
    "print(\"qtd_dx_incorrect: \",qtd_dx_incorrect)\n",
    "print(\"qtd_heat_transfer_incorrect: \",qtd_heat_transfer_incorrect)\n",
    "print(\"qtd_heat_flux_incorrect: \",qtd_heat_flux_incorrect)"
   ]
  },
  {
   "cell_type": "code",
   "execution_count": null,
   "metadata": {},
   "outputs": [],
   "source": [
    "#dataset = pd.read_csv('data.csv')"
   ]
  },
  {
   "cell_type": "code",
   "execution_count": null,
   "metadata": {},
   "outputs": [],
   "source": [
    "df.plot(subplots=True, figsize=(10,10))"
   ]
  },
  {
   "cell_type": "code",
   "execution_count": null,
   "metadata": {},
   "outputs": [],
   "source": [
    "#getting the length before the drop\n",
    "len_bf_drop = len(df)"
   ]
  },
  {
   "cell_type": "code",
   "execution_count": null,
   "metadata": {},
   "outputs": [],
   "source": [
    "#removing the outliers\n",
    "df = df[df['heat_transfer'] < 25000]\n",
    "df = df[df['conductivity'] < 500]\n",
    "df = df[df['heat_flux'] < 100000]\n",
    "df = df[df['area'] < 5]\n",
    "df = df[df['dx'] < 1.5]\n",
    "df = df[df['dt'] > -500]\n",
    "#checking the amount of data afeter removing the outliers\n",
    "print(len(df))"
   ]
  },
  {
   "cell_type": "code",
   "execution_count": null,
   "metadata": {},
   "outputs": [],
   "source": [
    "#plotting the graph again after removing the outliers\n",
    "df.plot(subplots=True, figsize=(10,10))"
   ]
  },
  {
   "cell_type": "code",
   "execution_count": null,
   "metadata": {},
   "outputs": [],
   "source": [
    "at_len = len(df)"
   ]
  },
  {
   "cell_type": "code",
   "execution_count": null,
   "metadata": {},
   "outputs": [],
   "source": [
    "#showing the length before the drop and after the drop\n",
    "print(\"before drop: \",len_bf_drop)\n",
    "print(\"after drop: \",at_len)"
   ]
  },
  {
   "cell_type": "code",
   "execution_count": null,
   "metadata": {},
   "outputs": [],
   "source": [
    "df.to_csv('data.csv', index=False)"
   ]
  }
 ],
 "metadata": {
  "kernelspec": {
   "display_name": "Python 3.10.0 64-bit",
   "language": "python",
   "name": "python3"
  },
  "language_info": {
   "codemirror_mode": {
    "name": "ipython",
    "version": 3
   },
   "file_extension": ".py",
   "mimetype": "text/x-python",
   "name": "python",
   "nbconvert_exporter": "python",
   "pygments_lexer": "ipython3",
   "version": "3.10.0 (tags/v3.10.0:b494f59, Oct  4 2021, 19:00:18) [MSC v.1929 64 bit (AMD64)]"
  },
  "orig_nbformat": 4,
  "vscode": {
   "interpreter": {
    "hash": "92064c288307e22fc195bf3cd0b30d5d71f98eaafe131704e3a45bfb46aac288"
   }
  }
 },
 "nbformat": 4,
 "nbformat_minor": 2
}
