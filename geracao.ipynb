{
 "cells": [
  {
   "cell_type": "code",
   "execution_count": 1,
   "metadata": {},
   "outputs": [],
   "source": [
    "import numpy as np\n",
    "import pandas as pd\n",
    "import random"
   ]
  },
  {
   "cell_type": "markdown",
   "metadata": {},
   "source": [
    "$$\n",
    "\\phi = -k\\frac{\\Delta(T)}{dx}  [W/m²]\n",
    "$$\n",
    "\n",
    "$\\phi$ = heat flux  [W/m²]  \n",
    "k = thermal conductivity  [W/m*k]  \n",
    "$\\Delta(T)$ = T2 - T1 where $T2 < T1$ [K]  \n",
    "dx = thickness of the material where the flux will flow [m]  \n"
   ]
  },
  {
   "cell_type": "markdown",
   "metadata": {},
   "source": [
    "$$\n",
    "\\phi = -kA\\frac{\\Delta(T)}{dx}  [W]\n",
    "$$\n",
    "\n",
    "$\\phi$ = heat transfer rate  [W]  \n",
    "A = area [m²]  \n",
    "k = thermal conductivity  [W/m*k]  \n",
    "$\\Delta(T)$ = T2 - T1 where $T2 < T1$ [K]  \n",
    "dx = thickness of the material where the flux will flow [m]  "
   ]
  },
  {
   "cell_type": "code",
   "execution_count": null,
   "metadata": {},
   "outputs": [],
   "source": [
    "#we are going to create a class named contas, which will have the attributes that will be used in the equation\n",
    "class contas:\n",
    "    #the atributes are, conductivity, heat_flux, heat_transfer, dt, dx and area\n",
    "    def __init__(self, conductivity, heat_flux, heat_transfer, dt, dx, area):\n",
    "        self.conductivity = conductivity\n",
    "        self.heat_flux = heat_flux\n",
    "        self.heat_transfer = heat_transfer\n",
    "        self.dt = dt\n",
    "        self.dx = dx\n",
    "        self.area = area\n",
    "    \n",
    "    #the method will have different equations, which will be used to calculate different things\n",
    "    \n",
    "    #the first equation is the case where we have the conductivity,area, dt and dx, and we want to calculate the heat transfer\n",
    "    def find_heat_transfer(self):\n",
    "        #we multiply by -1 because the term dt/dx is negative, given that the temperature flows from the higher temp to the lower temp\n",
    "        if(self.heat_flux * self.area == 0):\n",
    "            self.heat_transfer = -1 * self.conductivity*self.area*(self.dt/self.dx)\n",
    "        else:\n",
    "            self.heat_transfer = self.heat_flux * self.area\n",
    "        return self.heat_transfer\n",
    "    #the second equation is when we are going to calculate the heat flux, which is basically the heat transfer divided by the area\n",
    "    def find_heat_flux(self):\n",
    "        if(self.heat_transfer/self.area == 0):\n",
    "            #if the heat trasnsfer is zero, probably it was not calculated, so we are going to use the equation to calculate the heat flux\n",
    "            self.heat_flux = -1*self.conductivity*(self.dt/self.dx)\n",
    "        else:\n",
    "            self.heat_flux = self.heat_transfer/self.area\n",
    "        return self.heat_flux\n",
    "    def find_conductivity(self):\n",
    "        try:\n",
    "            self.conductivity = -1*self.heat_transfer*self.dx/(self.area*self.dt)\n",
    "        except:\n",
    "            self.conductivity = -1*self.heat_flux*self.dx/(self.dt)\n",
    "        return self.conductivity\n",
    "    def find_area(self):\n",
    "        try:\n",
    "            self.area = -1*self.heat_transfer*self.dx/(self.conductivity*self.dt)\n",
    "        except:\n",
    "            self.area = self.heat_transfer/self.heat_flux #since heat_flux = heat_transfer/area\n",
    "        return self.area\n",
    "    def find_dt(self):\n",
    "        try:\n",
    "            self.dt = -1*self.heat_transfer*self.dx/(self.conductivity*self.area)\n",
    "        except:\n",
    "            self.dt = -1*self.heat_flux*self.dx/(self.conductivity)\n",
    "        return self.dt\n",
    "    def find_dx(self):\n",
    "        try:\n",
    "            self.dx = -1* self.conductivity*self.area*(self.dt/self.heat_transfer)\n",
    "        except:\n",
    "            self.dx = -1*self.conductivity*(self.dt/self.heat_flux)\n",
    "        return self.dx    "
   ]
  },
  {
   "cell_type": "code",
   "execution_count": 2,
   "metadata": {},
   "outputs": [],
   "source": [
    "def conta(fluxo_calor,taxa_transferencia,area,condutividade,dt_dx):\n",
    "    if area == 0:\n",
    "        try:\n",
    "            area = taxa_transferencia/fluxo_calor\n",
    "        except:\n",
    "            raise Exception(\"Erro: divisão por zero\")\n",
    "        return area\n",
    "    elif taxa_transferencia == 0:\n",
    "        taxa_transferencia = fluxo_calor * area\n",
    "        return taxa_transferencia\n",
    "    elif fluxo_calor == 0:\n",
    "        try:\n",
    "            fluxo_calor = taxa_transferencia/area\n",
    "        except ZeroDivisionError:\n",
    "            fluxo_calor = -1 * condutividade * dt_dx\n",
    "        return fluxo_calor\n",
    "    elif condutividade == 0:\n",
    "        condutividade = -1*(fluxo_calor/dt_dx)\n",
    "        return condutividade\n",
    "    elif dt_dx == 0:\n",
    "        dt_dx = -1*(fluxo_calor/condutividade)\n",
    "        return dt_dx"
   ]
  },
  {
   "cell_type": "code",
   "execution_count": 3,
   "metadata": {},
   "outputs": [],
   "source": [
    "def geracao0(arr):\n",
    "    area = random.SystemRandom().uniform(0.1, 10)\n",
    "\n",
    "    condutividade = random.SystemRandom().uniform(0.01,200)#Condutividade térmica em W/mK\n",
    "\n",
    "    taxa_transferencia = random.SystemRandom().uniform(1,100) #Taxa de transferência de calor em W/m²\n",
    "\n",
    "    fluxo_calor = conta(0,taxa_transferencia,area,condutividade,0) #Fluxo de calor em W/m²\n",
    "\n",
    "    dt_dx = conta(fluxo_calor,taxa_transferencia,area,condutividade,0) #Variação de temperatura em K/m\n",
    "\n",
    "    arr = np.append(arr,[[fluxo_calor,taxa_transferencia,area,condutividade,dt_dx]],axis=0)\n",
    "\n",
    "    return arr"
   ]
  },
  {
   "cell_type": "code",
   "execution_count": 4,
   "metadata": {},
   "outputs": [],
   "source": [
    "def geracao1(arr):\n",
    "    condutividade = random.SystemRandom().uniform(0.01,200)#Condutividade térmica em W/mK\n",
    "\n",
    "    taxa_transferencia = random.SystemRandom().uniform(1,100) #Taxa de transferência de calor em W/m²\n",
    "\n",
    "    fluxo_calor = random.SystemRandom().uniform(1,100) #Fluxo de calor em W/m²\n",
    "\n",
    "    area = conta(fluxo_calor,taxa_transferencia,0,condutividade,0) #Área em m²\n",
    "\n",
    "    dt_dx = conta(fluxo_calor,taxa_transferencia,area,condutividade,0) #Variação de temperatura em K/m\n",
    "\n",
    "    arr = np.append(arr,[[fluxo_calor,taxa_transferencia,area,condutividade,dt_dx]],axis=0)\n",
    "\n",
    "    return arr"
   ]
  },
  {
   "cell_type": "code",
   "execution_count": 5,
   "metadata": {},
   "outputs": [],
   "source": [
    "def geracao2(arr):\n",
    "    #dt dx vai ser um valor negativo entre 0 e 10\n",
    "    dt_dx = random.SystemRandom().uniform(-10,0) #Variação de temperatura em K/m\n",
    "\n",
    "    area = random.SystemRandom().uniform(0.1, 10)\n",
    "\n",
    "    fluxo_calor = random.SystemRandom().uniform(1,100) #Fluxo de calor em W/m²\n",
    "\n",
    "    taxa_transferencia = conta(fluxo_calor,0,area,0,dt_dx) #Taxa de transferência de calor em W/m²\n",
    "\n",
    "    condutividade = conta(fluxo_calor,taxa_transferencia,area,0,dt_dx) #Condutividade térmica em W/mK\n",
    "\n",
    "    arr = np.append(arr,[[fluxo_calor,taxa_transferencia,area,condutividade,dt_dx]],axis=0)\n",
    "\n",
    "    return arr"
   ]
  },
  {
   "cell_type": "code",
   "execution_count": 6,
   "metadata": {},
   "outputs": [],
   "source": [
    "def geracao3(arr):\n",
    "    #calcular a área e o fluxo de calor, os outros vão ser gerados aleatoriamente\n",
    "    taxa_transferencia = random.SystemRandom().uniform(1,100) #Taxa de transferência de calor em W/m²\n",
    "\n",
    "    condutividade = random.SystemRandom().uniform(0.01,200)#Condutividade térmica em W/mK\n",
    "\n",
    "    dt_dx = random.SystemRandom().uniform(-10,0) #Variação de temperatura em K/m\n",
    "\n",
    "    fluxo_calor = -1 * condutividade * dt_dx\n",
    "\n",
    "    area = conta(fluxo_calor,taxa_transferencia,0,condutividade,dt_dx) \n",
    "    \n",
    "    arr = np.append(arr,[[fluxo_calor,taxa_transferencia,area,condutividade,dt_dx]],axis=0)\n",
    "    \n",
    "    return arr"
   ]
  },
  {
   "cell_type": "code",
   "execution_count": 7,
   "metadata": {},
   "outputs": [],
   "source": [
    "arr = np.array([[0,0,0,0,0]])\n",
    "\n",
    "for i in range(20000):\n",
    "    #we are going to use the 3 fuctions generate to generate 1000 samples\n",
    "    #we want to randomly choose one of the 3 functions\n",
    "    n = random.SystemRandom().randint(0,3)\n",
    "    if n == 0:\n",
    "        arr = geracao0(arr)\n",
    "    elif n == 1:\n",
    "        arr = geracao1(arr)\n",
    "    elif n == 2:\n",
    "        arr = geracao2(arr)\n",
    "    elif n == 3:\n",
    "        arr = geracao3(arr)\n",
    "\n",
    "df = pd.DataFrame(arr,columns=['flx_calor','tx_transf','area','condutividade','dtdx'])\n",
    "df = df.drop(0)\n",
    "df.to_csv('geracao.csv')"
   ]
  },
  {
   "cell_type": "code",
   "execution_count": 8,
   "metadata": {},
   "outputs": [
    {
     "name": "stdout",
     "output_type": "stream",
     "text": [
      "Quantidade de fluxos incorretos:  0\n",
      "Quantidade de dt/dx incorretos:  0\n",
      "Quantidade de áreas incorretas:  0\n",
      "Quantidade de condutividades incorretas:  0\n",
      "Quantidade de taxas incorretas:  0\n"
     ]
    }
   ],
   "source": [
    "qtd_flx_incorretos = 0\n",
    "qtd_dt_dx_incorretos = 0\n",
    "qtd_area_incorretos = 0\n",
    "qtd_cond_incorretos = 0\n",
    "qtd_taxa_incorretos = 0\n",
    "#no loop abaixo estamos verifcando se os valores gerados estão corretos\n",
    "#estamos usando a função round pois temos um erro minimo, então sem a função round o python não consideraria os valores iguais\n",
    "#apesar de terem uma diferença de 1x10^-8\n",
    "\n",
    "for i in range(len(df)):\n",
    "    flx = df.iloc[i]['flx_calor']\n",
    "    dt_dx = df.iloc[i]['dtdx']\n",
    "    area = df.iloc[i]['area']\n",
    "    cond = df.iloc[i]['condutividade']\n",
    "    taxa = df.iloc[i]['tx_transf']\n",
    "    if round(flx,3) != round(conta(0,taxa,area,cond,dt_dx),3):\n",
    "        qtd_flx_incorretos += 1\n",
    "    if round(dt_dx,3) != round(conta(flx,taxa,area,cond,0),3):\n",
    "        qtd_dt_dx_incorretos += 1\n",
    "    if round(area,3) != round(conta(flx,taxa,0,cond,dt_dx),3):\n",
    "        qtd_area_incorretos += 1\n",
    "    if round(cond,3) != round(conta(flx,taxa,area,0,dt_dx),3):\n",
    "        qtd_cond_incorretos += 1\n",
    "    if round(taxa,3) != round(conta(flx,0,area,cond,dt_dx),3):\n",
    "        qtd_taxa_incorretos += 1\n",
    "\n",
    "print('Quantidade de fluxos incorretos: ',qtd_flx_incorretos)\n",
    "print('Quantidade de dt/dx incorretos: ',qtd_dt_dx_incorretos)\n",
    "print('Quantidade de áreas incorretas: ',qtd_area_incorretos)\n",
    "print('Quantidade de condutividades incorretas: ',qtd_cond_incorretos)\n",
    "print('Quantidade de taxas incorretas: ',qtd_taxa_incorretos)\n"
   ]
  }
 ],
 "metadata": {
  "kernelspec": {
   "display_name": "Python 3.10.0 64-bit",
   "language": "python",
   "name": "python3"
  },
  "language_info": {
   "codemirror_mode": {
    "name": "ipython",
    "version": 3
   },
   "file_extension": ".py",
   "mimetype": "text/x-python",
   "name": "python",
   "nbconvert_exporter": "python",
   "pygments_lexer": "ipython3",
   "version": "3.10.0"
  },
  "orig_nbformat": 4,
  "vscode": {
   "interpreter": {
    "hash": "25546758498eb315c698ae46b8c183107105e42ace0db9597b3bc8e5bf61efb6"
   }
  }
 },
 "nbformat": 4,
 "nbformat_minor": 2
}
