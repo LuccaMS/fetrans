{
 "cells": [
  {
   "cell_type": "markdown",
   "metadata": {},
   "source": [
    "In this notebook, we are going to plot every model evaluation (MSE) with y and x being its amount of layers and neurons "
   ]
  },
  {
   "cell_type": "code",
   "execution_count": null,
   "metadata": {},
   "outputs": [],
   "source": [
    "#importing every model (file that ends with .h5) in the folder\n",
    "import os\n",
    "import matplotlib.pyplot as plt\n",
    "import numpy as np\n",
    "#the path of the files will be the subfolder of the current folder named \"model_different_amt\"\n",
    "path_model_diff = os.path.join(os.getcwd(), \"model_different_amt\")\n",
    "files_diff = os.listdir(path_model_diff)\n",
    "\n",
    "path_model_equal = os.path.join(os.getcwd(), \"model_equal_amt\")\n",
    "files_equal = os.listdir(path_model_equal)\n",
    "\n",
    "list_models_diff = []\n",
    "list_models_equal = []\n",
    "\n",
    "for file in files_equal:\n",
    "    if file.endswith(\".h5\"):\n",
    "        list_models_equal.append(os.path.join(path_model_equal, file))\n",
    "\n",
    "for file in files_diff:\n",
    "    #checking if the file ends with .h5\n",
    "    if file.endswith(\".h5\"):\n",
    "        #appeding the path to the model to the list\n",
    "        list_models_diff.append(os.path.join(path_model_diff, file))"
   ]
  },
  {
   "cell_type": "code",
   "execution_count": null,
   "metadata": {},
   "outputs": [],
   "source": [
    "#print(list_models_diff)"
   ]
  },
  {
   "cell_type": "code",
   "execution_count": null,
   "metadata": {},
   "outputs": [],
   "source": [
    "#print(list_models_equal)"
   ]
  },
  {
   "cell_type": "code",
   "execution_count": null,
   "metadata": {},
   "outputs": [],
   "source": [
    "#loading the models\n",
    "from keras.models import load_model\n",
    "models_diff = []\n",
    "models_equal = []\n",
    "\n",
    "for model in list_models_equal:\n",
    "    print(model)\n",
    "    models_equal.append(load_model(model))\n",
    "\n",
    "for model in list_models_diff:\n",
    "    print(model)\n",
    "    models_diff.append(load_model(model))"
   ]
  },
  {
   "cell_type": "code",
   "execution_count": null,
   "metadata": {},
   "outputs": [],
   "source": [
    "#loading the test data\n",
    "import pandas as pd\n",
    "test = pd.read_csv(\"teste.csv\")\n",
    "\n",
    "target = test[\"heat_flux\"]\n",
    "dados = test[['conductivity','area','dt','dx','heat_transfer']]\n"
   ]
  },
  {
   "cell_type": "code",
   "execution_count": null,
   "metadata": {},
   "outputs": [],
   "source": [
    "from sklearn.preprocessing import StandardScaler\n",
    "scaler = StandardScaler()\n",
    "dados = scaler.fit_transform(dados)\n",
    "target = target.values.reshape(-1,1)\n",
    "target = scaler.fit_transform(target)\n"
   ]
  },
  {
   "cell_type": "code",
   "execution_count": null,
   "metadata": {},
   "outputs": [],
   "source": [
    "#Now we are going to evaluate every model in the list for the test data\n",
    "evals_diff = []\n",
    "evals_equal = []\n",
    "\n",
    "for model in models_diff:\n",
    "    mse = model.evaluate(dados,target)\n",
    "    evals_diff.append(mse)\n",
    "\n",
    "for model in models_equal:\n",
    "    mse = model.evaluate(dados,target)\n",
    "    evals_equal.append(mse)"
   ]
  },
  {
   "cell_type": "code",
   "execution_count": null,
   "metadata": {},
   "outputs": [],
   "source": [
    "#we are going to make a dictionary in which each index has a mse,amount of layers and neurons\n",
    "dict_diff = {}\n",
    "for i in range(len(evals_diff)):\n",
    "    dict_diff[i] = [evals_diff[i],len(models_diff[i].layers)-1,models_diff[i].layers[0].get_config()['units']]\n",
    "\n",
    "dict_equal = {}\n",
    "for i in range(len(evals_equal)):\n",
    "    dict_equal[i] = [evals_equal[i],len(models_equal[i].layers)-1,models_equal[i].layers[0].get_config()['units']]"
   ]
  },
  {
   "cell_type": "code",
   "execution_count": null,
   "metadata": {},
   "outputs": [],
   "source": [
    "x = []\n",
    "y = []\n",
    "z = []\n",
    "\n",
    "x = [dict_diff[i][1] for i in dict_diff]\n",
    "y = [dict_diff[i][2] for i in dict_diff]\n",
    "z = [dict_diff[i][0] for i in dict_diff]\n",
    "\n",
    "for i in dict_diff:\n",
    "    print(dict_diff[i])\n",
    "\n",
    "fig = plt.figure()\n",
    "ax = fig.add_subplot(111, projection='3d')\n",
    "ax.stem(x,y,z,markerfmt='o',linefmt='--',basefmt='None')\n",
    "\n",
    "ax.set_xlabel('Amount of layers')\n",
    "ax.set_ylabel('Amount of neurons')\n",
    "ax.set_zlabel('MSE')\n",
    "plt.show()\n"
   ]
  },
  {
   "cell_type": "code",
   "execution_count": null,
   "metadata": {},
   "outputs": [],
   "source": [
    "x = []\n",
    "y = []\n",
    "z = []\n",
    "\n",
    "x = [dict_equal[i][1] for i in dict_equal]\n",
    "y = [dict_equal[i][2] for i in dict_equal]\n",
    "z = [dict_equal[i][0] for i in dict_equal]\n",
    "\n",
    "\n",
    "for i in dict_equal:\n",
    "    print(dict_equal[i])\n",
    "\n",
    "\n",
    "fig = plt.figure()\n",
    "ax = fig.add_subplot(111, projection='3d')\n",
    "ax.stem(x,y,z,markerfmt='o',linefmt='--',basefmt='None')\n",
    "\n",
    "ax.set_xlabel('Amount of layers')\n",
    "ax.set_ylabel('Amount of neurons')\n",
    "ax.set_zlabel('MSE')\n",
    "plt.show()\n"
   ]
  },
  {
   "cell_type": "code",
   "execution_count": null,
   "metadata": {},
   "outputs": [],
   "source": [
    "#Now we are going to create a list which will hold the prediction of every model of the first index of the data\n",
    "predictions_equal = []\n",
    "for model in models_equal:\n",
    "    predictions_equal.append(model.predict(dados))\n",
    "\n",
    "for i in range(len(predictions_equal)):\n",
    "    predictions_equal[i] = scaler.inverse_transform(predictions_equal[i])\n",
    "\n",
    "predictions_diff = []\n",
    "for model in models_diff:\n",
    "    predictions_diff.append(model.predict(dados))\n",
    "\n",
    "for i in range(len(predictions_diff)):\n",
    "    predictions_diff[i] = scaler.inverse_transform(predictions_diff[i])\n",
    "    "
   ]
  },
  {
   "cell_type": "code",
   "execution_count": null,
   "metadata": {},
   "outputs": [],
   "source": [
    "values_equal = []\n",
    "for i in range(len(predictions_equal)):\n",
    "    values_equal.append(predictions_equal[i][0][0])\n",
    "\n",
    "values_diff = []\n",
    "for i in range(len(predictions_diff)):\n",
    "    values_diff.append(predictions_diff[i][0][0])"
   ]
  },
  {
   "cell_type": "code",
   "execution_count": null,
   "metadata": {},
   "outputs": [],
   "source": [
    "#getting the heat_flux of the first value\n",
    "first = test['heat_flux'][0]\n",
    "print(first)\n"
   ]
  },
  {
   "cell_type": "code",
   "execution_count": null,
   "metadata": {},
   "outputs": [],
   "source": [
    "print(values_equal)"
   ]
  },
  {
   "cell_type": "code",
   "execution_count": null,
   "metadata": {},
   "outputs": [],
   "source": [
    "print(values_diff)"
   ]
  },
  {
   "cell_type": "code",
   "execution_count": null,
   "metadata": {},
   "outputs": [],
   "source": [
    "#making a scatter plot of the predictions\n",
    "plt.scatter(range(len(predictions_equal)),values_equal,marker='o',s=100)\n",
    "#Plotting a line of the real value\n",
    "plt.axhline(y=first, color='r', linestyle='-')\n",
    "#we are going to change the color of the points based on its distance from the real value\n",
    "plt.show()\n"
   ]
  },
  {
   "cell_type": "code",
   "execution_count": null,
   "metadata": {},
   "outputs": [],
   "source": [
    "plt.scatter(range(len(predictions_diff)),values_diff,marker='o',s=100)\n",
    "\n",
    "plt.axhline(y=first, color='r', linestyle='-')\n",
    "\n",
    "plt.show()"
   ]
  }
 ],
 "metadata": {
  "kernelspec": {
   "display_name": "Python 3.10.0 64-bit",
   "language": "python",
   "name": "python3"
  },
  "language_info": {
   "codemirror_mode": {
    "name": "ipython",
    "version": 3
   },
   "file_extension": ".py",
   "mimetype": "text/x-python",
   "name": "python",
   "nbconvert_exporter": "python",
   "pygments_lexer": "ipython3",
   "version": "3.10.0"
  },
  "orig_nbformat": 4,
  "vscode": {
   "interpreter": {
    "hash": "92064c288307e22fc195bf3cd0b30d5d71f98eaafe131704e3a45bfb46aac288"
   }
  }
 },
 "nbformat": 4,
 "nbformat_minor": 2
}
