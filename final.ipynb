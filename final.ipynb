{
 "cells": [
  {
   "cell_type": "markdown",
   "metadata": {},
   "source": [
    "In this notebook, we are going to plot every model evaluation (MSE) with y and x being its amount of layers and neurons "
   ]
  },
  {
   "cell_type": "code",
   "execution_count": 1,
   "metadata": {},
   "outputs": [
    {
     "name": "stdout",
     "output_type": "stream",
     "text": [
      "['model_10_84_5922.h5', 'model_11_229_11603.h5', 'model_11_248_4373.h5', 'model_14_233_8683.h5', 'model_14_57_87547.h5', 'model_14_70_5188.h5', 'model_16_93_7214.h5', 'model_5_100_14061.h5', 'model_6_167_11108.h5', 'model_8_59_10198.h5']\n"
     ]
    }
   ],
   "source": [
    "#importing every model (file that ends with .h5) in the folder\n",
    "import os\n",
    "import matplotlib.pyplot as plt\n",
    "import numpy as np\n",
    "path = os.getcwd()\n",
    "files = os.listdir(path)\n",
    "\n",
    "list_models = []\n",
    "\n",
    "for file in files:\n",
    "    #checking if the file ends with .h5\n",
    "    if file.endswith(\".h5\"):\n",
    "        list_models.append(file)\n",
    "\n",
    "print(list_models)"
   ]
  },
  {
   "cell_type": "code",
   "execution_count": 2,
   "metadata": {},
   "outputs": [
    {
     "name": "stdout",
     "output_type": "stream",
     "text": [
      "model_10_84_5922.h5\n",
      "model_11_229_11603.h5\n",
      "model_11_248_4373.h5\n",
      "model_14_233_8683.h5\n",
      "model_14_57_87547.h5\n",
      "model_14_70_5188.h5\n",
      "model_16_93_7214.h5\n",
      "model_5_100_14061.h5\n",
      "model_6_167_11108.h5\n",
      "model_8_59_10198.h5\n"
     ]
    }
   ],
   "source": [
    "#loading the models\n",
    "from keras.models import load_model\n",
    "models = []\n",
    "amt_trained = []\n",
    "for model in list_models:\n",
    "    print(model)\n",
    "    #getting the last subtring number of the model name\n",
    "    amt_trained.append(int(model.split(\"_\")[-1].split(\".\")[0]))\n",
    "    models.append(load_model(model))"
   ]
  },
  {
   "cell_type": "code",
   "execution_count": 3,
   "metadata": {},
   "outputs": [],
   "source": [
    "#loading the test data\n",
    "import pandas as pd\n",
    "test = pd.read_csv(\"teste.csv\")\n",
    "\n",
    "target = test[\"heat_flux\"]\n",
    "dados = test[['conductivity','area','dt','dx','heat_transfer']]\n"
   ]
  },
  {
   "cell_type": "code",
   "execution_count": 4,
   "metadata": {},
   "outputs": [],
   "source": [
    "from sklearn.preprocessing import StandardScaler\n",
    "scaler = StandardScaler()\n",
    "dados = scaler.fit_transform(dados)\n",
    "target = target.values.reshape(-1,1)\n",
    "target = scaler.fit_transform(target)\n"
   ]
  },
  {
   "cell_type": "code",
   "execution_count": 5,
   "metadata": {},
   "outputs": [
    {
     "name": "stdout",
     "output_type": "stream",
     "text": [
      "182/182 [==============================] - 0s 1ms/step - loss: 0.0341\n",
      "182/182 [==============================] - 0s 2ms/step - loss: 0.0160\n",
      "182/182 [==============================] - 1s 2ms/step - loss: 0.0633\n",
      "182/182 [==============================] - 1s 2ms/step - loss: 0.0128\n",
      "182/182 [==============================] - 0s 1ms/step - loss: 0.0019\n",
      "182/182 [==============================] - 0s 1ms/step - loss: 0.1460\n",
      "182/182 [==============================] - 0s 1ms/step - loss: 0.0178\n",
      "182/182 [==============================] - 0s 992us/step - loss: 0.0179\n",
      "182/182 [==============================] - 0s 1ms/step - loss: 0.0156\n",
      "182/182 [==============================] - 0s 957us/step - loss: 0.0047\n"
     ]
    }
   ],
   "source": [
    "#Now we are going to evaluate every model in the list for the test data\n",
    "evals = []\n",
    "preds = []\n",
    "for model in models:\n",
    "    mse = model.evaluate(dados,target)\n",
    "    evals.append(mse)\n"
   ]
  },
  {
   "cell_type": "code",
   "execution_count": 6,
   "metadata": {},
   "outputs": [],
   "source": [
    "#we are going to make a dictionary in which each index has a mse,amount of layers and neurons\n",
    "dict = {}\n",
    "for i in range(len(evals)):\n",
    "    dict[i] = [evals[i],len(models[i].layers)-1,models[i].layers[0].get_config()['units'],amt_trained[i]]"
   ]
  },
  {
   "cell_type": "code",
   "execution_count": 7,
   "metadata": {},
   "outputs": [
    {
     "name": "stdout",
     "output_type": "stream",
     "text": [
      "{0: [0.03409072756767273, 10, 84, 5922], 1: [0.015966663137078285, 11, 229, 11603], 2: [0.06331145018339157, 11, 248, 4373], 3: [0.012793065048754215, 14, 233, 8683], 4: [0.0019041375489905477, 14, 57, 87547], 5: [0.14598914980888367, 14, 70, 5188], 6: [0.017790772020816803, 16, 93, 7214], 7: [0.01792040839791298, 5, 100, 14061], 8: [0.015587838366627693, 6, 167, 11108], 9: [0.004700473044067621, 8, 59, 10198]}\n"
     ]
    }
   ],
   "source": [
    "print(dict)"
   ]
  },
  {
   "cell_type": "code",
   "execution_count": 8,
   "metadata": {},
   "outputs": [
    {
     "ename": "ValueError",
     "evalue": "Unknown projection '4d'",
     "output_type": "error",
     "traceback": [
      "\u001b[1;31m---------------------------------------------------------------------------\u001b[0m",
      "\u001b[1;31mKeyError\u001b[0m                                  Traceback (most recent call last)",
      "File \u001b[1;32mc:\\Users\\lucca\\AppData\\Local\\Programs\\Python\\Python310\\lib\\site-packages\\matplotlib\\projections\\__init__.py:108\u001b[0m, in \u001b[0;36mget_projection_class\u001b[1;34m(projection)\u001b[0m\n\u001b[0;32m    107\u001b[0m \u001b[39mtry\u001b[39;00m:\n\u001b[1;32m--> 108\u001b[0m     \u001b[39mreturn\u001b[39;00m projection_registry\u001b[39m.\u001b[39;49mget_projection_class(projection)\n\u001b[0;32m    109\u001b[0m \u001b[39mexcept\u001b[39;00m \u001b[39mKeyError\u001b[39;00m \u001b[39mas\u001b[39;00m err:\n",
      "File \u001b[1;32mc:\\Users\\lucca\\AppData\\Local\\Programs\\Python\\Python310\\lib\\site-packages\\matplotlib\\projections\\__init__.py:75\u001b[0m, in \u001b[0;36mProjectionRegistry.get_projection_class\u001b[1;34m(self, name)\u001b[0m\n\u001b[0;32m     74\u001b[0m \u001b[39m\"\"\"Get a projection class from its *name*.\"\"\"\u001b[39;00m\n\u001b[1;32m---> 75\u001b[0m \u001b[39mreturn\u001b[39;00m \u001b[39mself\u001b[39;49m\u001b[39m.\u001b[39;49m_all_projection_types[name]\n",
      "\u001b[1;31mKeyError\u001b[0m: '4d'",
      "\nThe above exception was the direct cause of the following exception:\n",
      "\u001b[1;31mValueError\u001b[0m                                Traceback (most recent call last)",
      "Cell \u001b[1;32mIn [8], line 13\u001b[0m\n\u001b[0;32m     10\u001b[0m     k\u001b[39m.\u001b[39mappend(\u001b[39mdict\u001b[39m[i][\u001b[39m3\u001b[39m])\n\u001b[0;32m     12\u001b[0m fig \u001b[39m=\u001b[39m plt\u001b[39m.\u001b[39mfigure()\n\u001b[1;32m---> 13\u001b[0m ax \u001b[39m=\u001b[39m fig\u001b[39m.\u001b[39;49madd_subplot(\u001b[39m111\u001b[39;49m, projection\u001b[39m=\u001b[39;49m\u001b[39m'\u001b[39;49m\u001b[39m4d\u001b[39;49m\u001b[39m'\u001b[39;49m)\n\u001b[0;32m     14\u001b[0m \u001b[39m#the color of the dots depend on the mse, the lower the msse, the darker the color\u001b[39;00m\n\u001b[0;32m     16\u001b[0m ax\u001b[39m.\u001b[39mscatter(x,y,z,k,c\u001b[39m=\u001b[39mz,cmap\u001b[39m=\u001b[39m\u001b[39m'\u001b[39m\u001b[39mcool\u001b[39m\u001b[39m'\u001b[39m,marker\u001b[39m=\u001b[39m\u001b[39m'\u001b[39m\u001b[39mo\u001b[39m\u001b[39m'\u001b[39m,s\u001b[39m=\u001b[39m\u001b[39m100\u001b[39m)\n",
      "File \u001b[1;32mc:\\Users\\lucca\\AppData\\Local\\Programs\\Python\\Python310\\lib\\site-packages\\matplotlib\\figure.py:743\u001b[0m, in \u001b[0;36mFigureBase.add_subplot\u001b[1;34m(self, *args, **kwargs)\u001b[0m\n\u001b[0;32m    740\u001b[0m \u001b[39mif\u001b[39;00m (\u001b[39mlen\u001b[39m(args) \u001b[39m==\u001b[39m \u001b[39m1\u001b[39m \u001b[39mand\u001b[39;00m \u001b[39misinstance\u001b[39m(args[\u001b[39m0\u001b[39m], Integral)\n\u001b[0;32m    741\u001b[0m         \u001b[39mand\u001b[39;00m \u001b[39m100\u001b[39m \u001b[39m<\u001b[39m\u001b[39m=\u001b[39m args[\u001b[39m0\u001b[39m] \u001b[39m<\u001b[39m\u001b[39m=\u001b[39m \u001b[39m999\u001b[39m):\n\u001b[0;32m    742\u001b[0m     args \u001b[39m=\u001b[39m \u001b[39mtuple\u001b[39m(\u001b[39mmap\u001b[39m(\u001b[39mint\u001b[39m, \u001b[39mstr\u001b[39m(args[\u001b[39m0\u001b[39m])))\n\u001b[1;32m--> 743\u001b[0m projection_class, pkw \u001b[39m=\u001b[39m \u001b[39mself\u001b[39m\u001b[39m.\u001b[39m_process_projection_requirements(\n\u001b[0;32m    744\u001b[0m     \u001b[39m*\u001b[39margs, \u001b[39m*\u001b[39m\u001b[39m*\u001b[39mkwargs)\n\u001b[0;32m    745\u001b[0m ax \u001b[39m=\u001b[39m subplot_class_factory(projection_class)(\u001b[39mself\u001b[39m, \u001b[39m*\u001b[39margs, \u001b[39m*\u001b[39m\u001b[39m*\u001b[39mpkw)\n\u001b[0;32m    746\u001b[0m key \u001b[39m=\u001b[39m (projection_class, pkw)\n",
      "File \u001b[1;32mc:\\Users\\lucca\\AppData\\Local\\Programs\\Python\\Python310\\lib\\site-packages\\matplotlib\\figure.py:1677\u001b[0m, in \u001b[0;36mFigureBase._process_projection_requirements\u001b[1;34m(self, axes_class, polar, projection, *args, **kwargs)\u001b[0m\n\u001b[0;32m   1674\u001b[0m     projection \u001b[39m=\u001b[39m \u001b[39m'\u001b[39m\u001b[39mpolar\u001b[39m\u001b[39m'\u001b[39m\n\u001b[0;32m   1676\u001b[0m \u001b[39mif\u001b[39;00m \u001b[39misinstance\u001b[39m(projection, \u001b[39mstr\u001b[39m) \u001b[39mor\u001b[39;00m projection \u001b[39mis\u001b[39;00m \u001b[39mNone\u001b[39;00m:\n\u001b[1;32m-> 1677\u001b[0m     projection_class \u001b[39m=\u001b[39m projections\u001b[39m.\u001b[39;49mget_projection_class(projection)\n\u001b[0;32m   1678\u001b[0m \u001b[39melif\u001b[39;00m \u001b[39mhasattr\u001b[39m(projection, \u001b[39m'\u001b[39m\u001b[39m_as_mpl_axes\u001b[39m\u001b[39m'\u001b[39m):\n\u001b[0;32m   1679\u001b[0m     projection_class, extra_kwargs \u001b[39m=\u001b[39m projection\u001b[39m.\u001b[39m_as_mpl_axes()\n",
      "File \u001b[1;32mc:\\Users\\lucca\\AppData\\Local\\Programs\\Python\\Python310\\lib\\site-packages\\matplotlib\\projections\\__init__.py:110\u001b[0m, in \u001b[0;36mget_projection_class\u001b[1;34m(projection)\u001b[0m\n\u001b[0;32m    108\u001b[0m     \u001b[39mreturn\u001b[39;00m projection_registry\u001b[39m.\u001b[39mget_projection_class(projection)\n\u001b[0;32m    109\u001b[0m \u001b[39mexcept\u001b[39;00m \u001b[39mKeyError\u001b[39;00m \u001b[39mas\u001b[39;00m err:\n\u001b[1;32m--> 110\u001b[0m     \u001b[39mraise\u001b[39;00m \u001b[39mValueError\u001b[39;00m(\u001b[39m\"\u001b[39m\u001b[39mUnknown projection \u001b[39m\u001b[39m%r\u001b[39;00m\u001b[39m\"\u001b[39m \u001b[39m%\u001b[39m projection) \u001b[39mfrom\u001b[39;00m \u001b[39merr\u001b[39;00m\n",
      "\u001b[1;31mValueError\u001b[0m: Unknown projection '4d'"
     ]
    },
    {
     "data": {
      "text/plain": [
       "<Figure size 640x480 with 0 Axes>"
      ]
     },
     "metadata": {},
     "output_type": "display_data"
    }
   ],
   "source": [
    "#now that we have the dict, we want to plot the data, with the x being the amount of layers, y the amount of neurons, and the value is the MSE\n",
    "x = []\n",
    "y = []\n",
    "z = []\n",
    "k = []\n",
    "for i in dict:\n",
    "    x.append(dict[i][1])\n",
    "    y.append(dict[i][2])\n",
    "    z.append(dict[i][0])\n",
    "    k.append(dict[i][3])\n",
    "\n",
    "fig = plt.figure()\n",
    "ax = fig.add_subplot(111, projection='3d')\n",
    "#the color of the dots depend on the mse, the lower the msse, the darker the color\n",
    "\n",
    "ax.scatter(x,y,z,c=z,cmap='cool',marker='o',s=100)\n",
    "ax.set_xlabel('Amount of layers')\n",
    "ax.set_ylabel('Amount of neurons')\n",
    "ax.set_zlabel('MSE')\n",
    "ax.set_klabel('Amount of trained data')\n",
    "plt.show()\n",
    "\n"
   ]
  },
  {
   "cell_type": "code",
   "execution_count": null,
   "metadata": {},
   "outputs": [],
   "source": [
    "#Plotting the COOL colormap\n",
    "x = np.linspace(0, 1, 256).reshape(1,-1)\n",
    "x = np.vstack((x,x))\n",
    "fig = plt.figure(figsize=(6, 2))\n",
    "ax = fig.add_axes([0.05, 0.80, 0.9, 0.15])\n",
    "ax.imshow(x, aspect='auto', cmap='cool')\n",
    "plt.show()\n"
   ]
  },
  {
   "cell_type": "code",
   "execution_count": null,
   "metadata": {},
   "outputs": [],
   "source": [
    "\n",
    "#getting the first row of the dataset\n",
    "first_100 = test.iloc[0][\"heat_flux\"]"
   ]
  },
  {
   "cell_type": "code",
   "execution_count": null,
   "metadata": {},
   "outputs": [],
   "source": [
    "print(first_100)"
   ]
  },
  {
   "cell_type": "code",
   "execution_count": null,
   "metadata": {},
   "outputs": [],
   "source": [
    "#Now we are going to create a list which will hold the prediction of every model of the first index of the data\n",
    "predictions = []\n",
    "for model in models:\n",
    "    predictions.append(model.predict(dados))\n",
    "\n",
    "for i in range(len(predictions)):\n",
    "    predictions[i] = scaler.inverse_transform(predictions[i])\n"
   ]
  },
  {
   "cell_type": "code",
   "execution_count": null,
   "metadata": {},
   "outputs": [],
   "source": [
    "values = []\n",
    "for i in range(len(predictions)):\n",
    "    values.append(predictions[i][0][0])"
   ]
  },
  {
   "cell_type": "code",
   "execution_count": null,
   "metadata": {},
   "outputs": [],
   "source": [
    "print(values)"
   ]
  },
  {
   "cell_type": "code",
   "execution_count": null,
   "metadata": {},
   "outputs": [],
   "source": [
    "print(first_100)"
   ]
  },
  {
   "cell_type": "code",
   "execution_count": null,
   "metadata": {},
   "outputs": [],
   "source": [
    "#making a scatter plot of the predictions\n",
    "plt.scatter(range(len(predictions)),values,marker='o',s=100)\n",
    "#Plotting a line of the real value\n",
    "plt.axhline(y=first_100, color='r', linestyle='-')\n",
    "#we are going to change the color of the points based on its distance from the real value\n",
    "plt.show()\n"
   ]
  }
 ],
 "metadata": {
  "kernelspec": {
   "display_name": "Python 3.10.0 64-bit",
   "language": "python",
   "name": "python3"
  },
  "language_info": {
   "codemirror_mode": {
    "name": "ipython",
    "version": 3
   },
   "file_extension": ".py",
   "mimetype": "text/x-python",
   "name": "python",
   "nbconvert_exporter": "python",
   "pygments_lexer": "ipython3",
   "version": "3.10.0"
  },
  "orig_nbformat": 4,
  "vscode": {
   "interpreter": {
    "hash": "92064c288307e22fc195bf3cd0b30d5d71f98eaafe131704e3a45bfb46aac288"
   }
  }
 },
 "nbformat": 4,
 "nbformat_minor": 2
}
