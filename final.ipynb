{
 "cells": [
  {
   "cell_type": "markdown",
   "metadata": {},
   "source": [
    "In this notebook, we are going to plot every model evaluation (MSE) with y and x being its amount of layers and neurons "
   ]
  },
  {
   "cell_type": "code",
   "execution_count": 16,
   "metadata": {},
   "outputs": [
    {
     "name": "stdout",
     "output_type": "stream",
     "text": [
      "['model_12_112_14635.h5', 'model_14_222_2884.h5', 'model_15_25_7359.h5', 'model_19_81_58224.h5']\n"
     ]
    }
   ],
   "source": [
    "#importing every model (file that ends with .h5) in the folder\n",
    "import os\n",
    "path = os.getcwd()\n",
    "files = os.listdir(path)\n",
    "\n",
    "list_models = []\n",
    "\n",
    "for file in files:\n",
    "    #checking if the file ends with .h5\n",
    "    if file.endswith(\".h5\"):\n",
    "        list_models.append(file)\n",
    "\n",
    "print(list_models)"
   ]
  },
  {
   "cell_type": "code",
   "execution_count": 17,
   "metadata": {},
   "outputs": [
    {
     "name": "stdout",
     "output_type": "stream",
     "text": [
      "model_12_112_14635.h5\n",
      "model_14_222_2884.h5\n",
      "model_15_25_7359.h5\n",
      "model_19_81_58224.h5\n"
     ]
    }
   ],
   "source": [
    "#loading the models\n",
    "from keras.models import load_model\n",
    "models = []\n",
    "for model in list_models:\n",
    "    print(model)\n",
    "    models.append(load_model(model))"
   ]
  },
  {
   "cell_type": "code",
   "execution_count": 18,
   "metadata": {},
   "outputs": [],
   "source": [
    "#loading the test data\n",
    "import pandas as pd\n",
    "test = pd.read_csv(\"teste.csv\")\n",
    "\n",
    "target = test[\"heat_flux\"]\n",
    "dados = test[['conductivity','area','dt','dx','heat_transfer']]\n"
   ]
  },
  {
   "cell_type": "code",
   "execution_count": 19,
   "metadata": {},
   "outputs": [],
   "source": [
    "from sklearn.preprocessing import StandardScaler\n",
    "scaler = StandardScaler()\n",
    "dados = scaler.fit_transform(dados)\n",
    "target = target.values.reshape(-1,1)\n",
    "target = scaler.fit_transform(target)\n"
   ]
  },
  {
   "cell_type": "code",
   "execution_count": 20,
   "metadata": {},
   "outputs": [
    {
     "name": "stdout",
     "output_type": "stream",
     "text": [
      "183/183 [==============================] - 0s 2ms/step - loss: 0.0231\n",
      "0.023125916719436646\n",
      "183/183 [==============================] - 0s 2ms/step - loss: 0.0231\n",
      "0.023125916719436646\n",
      "183/183 [==============================] - 0s 2ms/step - loss: 0.0231\n",
      "0.023125916719436646\n",
      "183/183 [==============================] - 0s 2ms/step - loss: 0.0231\n",
      "0.023125916719436646\n"
     ]
    }
   ],
   "source": [
    "#Now we are going to evaluate every model in the list for the test data\n",
    "for model in models:\n",
    "    print(model.name)\n",
    "    print(model.evaluate(dados,target))"
   ]
  }
 ],
 "metadata": {
  "kernelspec": {
   "display_name": "Python 3.10.0 64-bit",
   "language": "python",
   "name": "python3"
  },
  "language_info": {
   "codemirror_mode": {
    "name": "ipython",
    "version": 3
   },
   "file_extension": ".py",
   "mimetype": "text/x-python",
   "name": "python",
   "nbconvert_exporter": "python",
   "pygments_lexer": "ipython3",
   "version": "3.10.0"
  },
  "orig_nbformat": 4,
  "vscode": {
   "interpreter": {
    "hash": "92064c288307e22fc195bf3cd0b30d5d71f98eaafe131704e3a45bfb46aac288"
   }
  }
 },
 "nbformat": 4,
 "nbformat_minor": 2
}
